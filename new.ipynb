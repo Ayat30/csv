{
  "nbformat": 4,
  "nbformat_minor": 0,
  "metadata": {
    "colab": {
      "name": "Welcome To Colaboratory",
      "provenance": [],
      "collapsed_sections": [],
      "toc_visible": true,
      "include_colab_link": true
    },
    "kernelspec": {
      "display_name": "Python 3",
      "name": "python3"
    }
  },
  "cells": [
    {
      "cell_type": "markdown",
      "metadata": {
        "id": "view-in-github",
        "colab_type": "text"
      },
      "source": [
        "<a href=\"https://colab.research.google.com/github/Ayat30/csv/blob/master/new.ipynb\" target=\"_parent\"><img src=\"https://colab.research.google.com/assets/colab-badge.svg\" alt=\"Open In Colab\"/></a>"
      ]
    },
    {
      "cell_type": "code",
      "metadata": {
        "id": "R8c3qWmaW8tM",
        "outputId": "6a30cebf-a297-4414-8889-eee6f5741c71",
        "colab": {
          "base_uri": "https://localhost:8080/"
        }
      },
      "source": [
        "import csv\n",
        "import random\n",
        "from urllib.request import urlopen\n",
        "import requests\n",
        "from contextlib import closing\n",
        "from sklearn.linear_model import Perceptron\n",
        "model = Perceptron()\n",
        "\n",
        "url = \"https://raw.githubusercontent.com/Ayat30/csv/master/haberman.csv\"\n",
        "with closing(requests.get(url, stream=True)) as r:\n",
        "    f = (line.decode('utf-8') for line in r.iter_lines())\n",
        "    reader = csv.reader(f, delimiter=',', quotechar='\"')\n",
        "    next(reader, None)\n",
        "\n",
        "    data = []\n",
        "    for row in reader:\n",
        "        data.append({\n",
        "            \"age\": [int(cell) for cell in row[:3]],\n",
        "            \"label\": \"a3\" if row[3] == \"1\" else \"die\"\n",
        "        })\n",
        "\n",
        "# Separate data into training and testing groups\n",
        "holdout = int(0.30 * len(data))\n",
        "random.shuffle(data)\n",
        "testing = data[:holdout]\n",
        "training = data[holdout:]\n",
        "\n",
        "# Train model on training set\n",
        "x_training = [row[\"age\"] for row in training]\n",
        "y_training = [row[\"label\"] for row in training]\n",
        "model.fit(x_training, y_training)\n",
        "\n",
        "# Make predictions on the testing set\n",
        "X_testing = [row[\"age\"] for row in testing]\n",
        "y_testing = [row[\"label\"] for row in testing]\n",
        "predictions = model.predict(X_testing)\n",
        "\n",
        "# Compute how well we performed\n",
        "correct = 0\n",
        "incorrect = 0\n",
        "total = 0\n",
        "for actual, predicted in zip(y_testing, predictions):\n",
        "    total += 1\n",
        "    if actual == predicted:\n",
        "        correct += 1\n",
        "    else:\n",
        "        incorrect += 1\n",
        "\n",
        "# Print results\n",
        "print(f\"Results for model {type(model).__name__}\")\n",
        "print(f\"Correct: {correct}\")\n",
        "print(f\"Incorrect: {incorrect}\")\n",
        "print(f\"Accuracy: {100 * correct / total:.2f}%\")"
      ],
      "execution_count": 1,
      "outputs": [
        {
          "output_type": "stream",
          "text": [
            "Results for model Perceptron\n",
            "Correct: 40\n",
            "Incorrect: 19\n",
            "Accuracy: 67.80%\n"
          ],
          "name": "stdout"
        }
      ]
    }
  ]
}