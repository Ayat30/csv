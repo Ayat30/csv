{
  "nbformat": 4,
  "nbformat_minor": 0,
  "metadata": {
    "colab": {
      "name": "neural network.ipynb",
      "provenance": [],
      "collapsed_sections": [],
      "authorship_tag": "ABX9TyOH0cv3qK9oXPWh5ZlTOQ9y",
      "include_colab_link": true
    },
    "kernelspec": {
      "name": "python3",
      "display_name": "Python 3"
    },
    "language_info": {
      "name": "python"
    }
  },
  "cells": [
    {
      "cell_type": "markdown",
      "metadata": {
        "id": "view-in-github",
        "colab_type": "text"
      },
      "source": [
        "<a href=\"https://colab.research.google.com/github/Ayat30/csv/blob/master/neural_network.ipynb\" target=\"_parent\"><img src=\"https://colab.research.google.com/assets/colab-badge.svg\" alt=\"Open In Colab\"/></a>"
      ]
    },
    {
      "cell_type": "code",
      "metadata": {
        "id": "Wr3siJj55bGI",
        "colab": {
          "base_uri": "https://localhost:8080/",
          "height": 238
        },
        "outputId": "581fe4a4-14b3-47c0-ad87-58febb05be50"
      },
      "source": [
        "import numpy as np\n",
        "from matplotlib import pyplot as plt\n",
        " \n",
        "ys= 100 + np.random.randn(50)\n",
        "x = [x for x in range(len(ys))]\n",
        " \n",
        "plt.plot(x, ys, '-')\n",
        "plt.fill_between(x, ys, 10, where=(ys > 100), facecolor='g', alpha=0.6)\n",
        " \n",
        "#plt.title(\"Sample Visualization\")\n",
        "#plt.show()\n",
        " \n",
        "import csv\n",
        "import tensorflow as tf\n",
        "from sklearn.model_selection import train_test_split"
      ],
      "execution_count": 10,
      "outputs": [
        {
          "output_type": "display_data",
          "data": {
            "image/png": "[encoded data removed]",
            "text/plain": [
              "<Figure size 432x288 with 1 Axes>"
            ]
          },
          "metadata": {
            "tags": [],
            "needs_background": "light"
          }
        }
      ]
    },
    {
      "cell_type": "code",
      "metadata": {
        "id": "9CwX-p8R_tuz",
        "colab": {
          "resources": {
            "http://localhost:8080/nbextensions/google.colab/files.js": {
              "data": "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",
              "ok": true,
              "headers": [
                [
                  "content-type",
                  "application/javascript"
                ]
              ],
              "status": 200,
              "status_text": ""
            }
          },
          "base_uri": "https://localhost:8080/",
          "height": 90
        },
        "outputId": "93333f9c-844d-4b40-e929-c08835c007dd"
      },
      "source": [
        " \n",
        "from google.colab import files   \n",
        "uploaded = files.upload()"
      ],
      "execution_count": 11,
      "outputs": [
        {
          "output_type": "display_data",
          "data": {
            "text/html": [
              "\n",
              "     <input type=\"file\" id=\"files-cf1e7e1a-942d-4ec5-bc57-319795b3e69d\" name=\"files[]\" multiple disabled\n",
              "        style=\"border:none\" />\n",
              "     <output id=\"result-cf1e7e1a-942d-4ec5-bc57-319795b3e69d\">\n",
              "      Upload widget is only available when the cell has been executed in the\n",
              "      current browser session. Please rerun this cell to enable.\n",
              "      </output>\n",
              "      <script src=\"/nbextensions/google.colab/files.js\"></script> "
            ],
            "text/plain": [
              "<IPython.core.display.HTML object>"
            ]
          },
          "metadata": {
            "tags": []
          }
        },
        {
          "output_type": "stream",
          "text": [
            "Saving haberman to haberman\n"
          ],
          "name": "stdout"
        }
      ]
    },
    {
      "cell_type": "code",
      "metadata": {
        "id": "-HC1Hg01AXtt",
        "colab": {
          "base_uri": "https://localhost:8080/",
          "height": 140
        },
        "outputId": "b85052ad-902f-4559-a12c-fe83a470bd42"
      },
      "source": [
        "import pandas as  pd\n",
        "df = pd.read_csv(\"haberman\")\n",
        "df.head(3)"
      ],
      "execution_count": 13,
      "outputs": [
        {
          "output_type": "execute_result",
          "data": {
            "text/html": [
              "<div>\n",
              "<style scoped>\n",
              "    .dataframe tbody tr th:only-of-type {\n",
              "        vertical-align: middle;\n",
              "    }\n",
              "\n",
              "    .dataframe tbody tr th {\n",
              "        vertical-align: top;\n",
              "    }\n",
              "\n",
              "    .dataframe thead th {\n",
              "        text-align: right;\n",
              "    }\n",
              "</style>\n",
              "<table border=\"1\" class=\"dataframe\">\n",
              "  <thead>\n",
              "    <tr style=\"text-align: right;\">\n",
              "      <th></th>\n",
              "      <th>age</th>\n",
              "      <th>a2</th>\n",
              "      <th>a3</th>\n",
              "      <th>a4</th>\n",
              "    </tr>\n",
              "  </thead>\n",
              "  <tbody>\n",
              "    <tr>\n",
              "      <th>0</th>\n",
              "      <td>30</td>\n",
              "      <td>64</td>\n",
              "      <td>1</td>\n",
              "      <td>1</td>\n",
              "    </tr>\n",
              "    <tr>\n",
              "      <th>1</th>\n",
              "      <td>30</td>\n",
              "      <td>62</td>\n",
              "      <td>3</td>\n",
              "      <td>1</td>\n",
              "    </tr>\n",
              "    <tr>\n",
              "      <th>2</th>\n",
              "      <td>30</td>\n",
              "      <td>65</td>\n",
              "      <td>0</td>\n",
              "      <td>1</td>\n",
              "    </tr>\n",
              "  </tbody>\n",
              "</table>\n",
              "</div>"
            ],
            "text/plain": [
              "   age  a2  a3  a4\n",
              "0   30  64   1   1\n",
              "1   30  62   3   1\n",
              "2   30  65   0   1"
            ]
          },
          "metadata": {
            "tags": []
          },
          "execution_count": 13
        }
      ]
    },
    {
      "cell_type": "code",
      "metadata": {
        "id": "QBGAz4oILcUB"
      },
      "source": [
        "# df.tail(3)\n",
        "X = df.drop(columns = \"a4\")\n",
        "y = df[\"a4\"]\n",
        " \n",
        " \n",
        "from sklearn.model_selection import train_test_split\n",
        "X_train, X_test, y_train, y_test = train_test_split(X, y, test_size=0.3, random_state=0)"
      ],
      "execution_count": 14,
      "outputs": []
    },
    {
      "cell_type": "code",
      "metadata": {
        "id": "xmqBeTerAvNv"
      },
      "source": [
        "# Create a neural network\n",
        "model = tf.keras.models.Sequential()\n",
        " \n",
        "# Add a hidden layer with 3 units, with ReLU activation\n",
        "model.add(tf.keras.layers.Dense(3, input_shape=(3,), activation=\"relu\"))\n",
        " \n",
        "# Add output layer with 1 unit, with sigmoid activation\n",
        "model.add(tf.keras.layers.Dense(1, activation=\"sigmoid\"))"
      ],
      "execution_count": 15,
      "outputs": []
    },
    {
      "cell_type": "code",
      "metadata": {
        "id": "pOOck5L-A40Q",
        "colab": {
          "base_uri": "https://localhost:8080/"
        },
        "outputId": "afa6af77-2d05-423b-cf48-038e0ddd7407"
      },
      "source": [
        "# Train neural network\n",
        "model.compile(\n",
        "    optimizer=\"adam\",\n",
        "        loss=\"binary_crossentropy\",\n",
        "            metrics=[\"accuracy\"]\n",
        ") \n",
        "model.fit(X_train, y_train, epochs=50)"
      ],
      "execution_count": 17,
      "outputs": [
        {
          "output_type": "stream",
          "text": [
            "Epoch 1/50\n",
            "5/5 [==============================] - 0s 3ms/step - loss: -12.7663 - accuracy: 0.7562\n",
            "Epoch 2/50\n",
            "5/5 [==============================] - 0s 3ms/step - loss: -13.9999 - accuracy: 0.7366\n",
            "Epoch 3/50\n",
            "5/5 [==============================] - 0s 3ms/step - loss: -13.7107 - accuracy: 0.7505\n",
            "Epoch 4/50\n",
            "5/5 [==============================] - 0s 3ms/step - loss: -13.5881 - accuracy: 0.7592\n",
            "Epoch 5/50\n",
            "5/5 [==============================] - 0s 2ms/step - loss: -15.7897 - accuracy: 0.7340\n",
            "Epoch 6/50\n",
            "5/5 [==============================] - 0s 3ms/step - loss: -13.8100 - accuracy: 0.7722\n",
            "Epoch 7/50\n",
            "5/5 [==============================] - 0s 3ms/step - loss: -14.7029 - accuracy: 0.7644\n",
            "Epoch 8/50\n",
            "5/5 [==============================] - 0s 2ms/step - loss: -15.7281 - accuracy: 0.7488\n",
            "Epoch 9/50\n",
            "5/5 [==============================] - 0s 2ms/step - loss: -16.0007 - accuracy: 0.7566\n",
            "Epoch 10/50\n",
            "5/5 [==============================] - 0s 3ms/step - loss: -18.2619 - accuracy: 0.7275\n",
            "Epoch 11/50\n",
            "5/5 [==============================] - 0s 3ms/step - loss: -14.8551 - accuracy: 0.7826\n",
            "Epoch 12/50\n",
            "5/5 [==============================] - 0s 3ms/step - loss: -18.0251 - accuracy: 0.7436\n",
            "Epoch 13/50\n",
            "5/5 [==============================] - 0s 3ms/step - loss: -18.4148 - accuracy: 0.7471\n",
            "Epoch 14/50\n",
            "5/5 [==============================] - 0s 2ms/step - loss: -18.5447 - accuracy: 0.7505\n",
            "Epoch 15/50\n",
            "5/5 [==============================] - 0s 3ms/step - loss: -18.1389 - accuracy: 0.7614\n",
            "Epoch 16/50\n",
            "5/5 [==============================] - 0s 3ms/step - loss: -18.7487 - accuracy: 0.7570\n",
            "Epoch 17/50\n",
            "5/5 [==============================] - 0s 3ms/step - loss: -16.5353 - accuracy: 0.7887\n",
            "Epoch 18/50\n",
            "5/5 [==============================] - 0s 3ms/step - loss: -22.0912 - accuracy: 0.7210\n",
            "Epoch 19/50\n",
            "5/5 [==============================] - 0s 2ms/step - loss: -20.7248 - accuracy: 0.7479\n",
            "Epoch 20/50\n",
            "5/5 [==============================] - 0s 3ms/step - loss: -20.8104 - accuracy: 0.7531\n",
            "Epoch 21/50\n",
            "5/5 [==============================] - 0s 3ms/step - loss: -20.6098 - accuracy: 0.7566\n",
            "Epoch 22/50\n",
            "5/5 [==============================] - 0s 3ms/step - loss: -25.0858 - accuracy: 0.7084\n",
            "Epoch 23/50\n",
            "5/5 [==============================] - 0s 3ms/step - loss: -22.7998 - accuracy: 0.7431\n",
            "Epoch 24/50\n",
            "5/5 [==============================] - 0s 3ms/step - loss: -20.2648 - accuracy: 0.7705\n",
            "Epoch 25/50\n",
            "5/5 [==============================] - 0s 3ms/step - loss: -22.3437 - accuracy: 0.7540\n",
            "Epoch 26/50\n",
            "5/5 [==============================] - 0s 3ms/step - loss: -21.4577 - accuracy: 0.7653\n",
            "Epoch 27/50\n",
            "5/5 [==============================] - 0s 3ms/step - loss: -24.3274 - accuracy: 0.7427\n",
            "Epoch 28/50\n",
            "5/5 [==============================] - 0s 3ms/step - loss: -26.9288 - accuracy: 0.7167\n",
            "Epoch 29/50\n",
            "5/5 [==============================] - 0s 3ms/step - loss: -25.6632 - accuracy: 0.7310\n",
            "Epoch 30/50\n",
            "5/5 [==============================] - 0s 3ms/step - loss: -26.0526 - accuracy: 0.7314\n",
            "Epoch 31/50\n",
            "5/5 [==============================] - 0s 3ms/step - loss: -26.6334 - accuracy: 0.7323\n",
            "Epoch 32/50\n",
            "5/5 [==============================] - 0s 3ms/step - loss: -27.2530 - accuracy: 0.7249\n",
            "Epoch 33/50\n",
            "5/5 [==============================] - 0s 3ms/step - loss: -26.2173 - accuracy: 0.7397\n",
            "Epoch 34/50\n",
            "5/5 [==============================] - 0s 3ms/step - loss: -25.4862 - accuracy: 0.7527\n",
            "Epoch 35/50\n",
            "5/5 [==============================] - 0s 3ms/step - loss: -26.8916 - accuracy: 0.7401\n",
            "Epoch 36/50\n",
            "5/5 [==============================] - 0s 11ms/step - loss: -27.7228 - accuracy: 0.7349\n",
            "Epoch 37/50\n",
            "5/5 [==============================] - 0s 3ms/step - loss: -22.9679 - accuracy: 0.7839\n",
            "Epoch 38/50\n",
            "5/5 [==============================] - 0s 3ms/step - loss: -27.0090 - accuracy: 0.7492\n",
            "Epoch 39/50\n",
            "5/5 [==============================] - 0s 4ms/step - loss: -27.1052 - accuracy: 0.7518\n",
            "Epoch 40/50\n",
            "5/5 [==============================] - 0s 3ms/step - loss: -26.0122 - accuracy: 0.7622\n",
            "Epoch 41/50\n",
            "5/5 [==============================] - 0s 3ms/step - loss: -25.0159 - accuracy: 0.7757\n",
            "Epoch 42/50\n",
            "5/5 [==============================] - 0s 3ms/step - loss: -28.7030 - accuracy: 0.7453\n",
            "Epoch 43/50\n",
            "5/5 [==============================] - 0s 3ms/step - loss: -26.8667 - accuracy: 0.7622\n",
            "Epoch 44/50\n",
            "5/5 [==============================] - 0s 3ms/step - loss: -27.7932 - accuracy: 0.7588\n",
            "Epoch 45/50\n",
            "5/5 [==============================] - 0s 3ms/step - loss: -29.7026 - accuracy: 0.7449\n",
            "Epoch 46/50\n",
            "5/5 [==============================] - 0s 3ms/step - loss: -31.5029 - accuracy: 0.7336\n",
            "Epoch 47/50\n",
            "5/5 [==============================] - 0s 6ms/step - loss: -31.4663 - accuracy: 0.7362\n",
            "Epoch 48/50\n",
            "5/5 [==============================] - 0s 3ms/step - loss: -28.5540 - accuracy: 0.7627\n",
            "Epoch 49/50\n",
            "5/5 [==============================] - 0s 3ms/step - loss: -29.6909 - accuracy: 0.7575\n",
            "Epoch 50/50\n",
            "5/5 [==============================] - 0s 3ms/step - loss: -27.5934 - accuracy: 0.7787\n"
          ],
          "name": "stdout"
        },
        {
          "output_type": "execute_result",
          "data": {
            "text/plain": [
              "<tensorflow.python.keras.callbacks.History at 0x7f4e88d39d90>"
            ]
          },
          "metadata": {
            "tags": []
          },
          "execution_count": 17
        }
      ]
    },
    {
      "cell_type": "code",
      "metadata": {
        "id": "cHC9Q17oBBL8",
        "colab": {
          "base_uri": "https://localhost:8080/"
        },
        "outputId": "5fa9f0ec-1c7d-4edb-c2e8-7379481fc113"
      },
      "source": [
        " \n",
        "# Evaluate how well model performs\n",
        "model.evaluate(X_test, y_test, verbose=2)\n",
        " \n",
        "X.head(1)\n",
        "model.predict(x=X.tail(1), verbose=2)"
      ],
      "execution_count": 18,
      "outputs": [
        {
          "output_type": "stream",
          "text": [
            "2/2 - 0s - loss: -3.9084e+01 - accuracy: 0.6833\n",
            "1/1 - 0s\n"
          ],
          "name": "stdout"
        },
        {
          "output_type": "execute_result",
          "data": {
            "text/plain": [
              "array([[1.]], dtype=float32)"
            ]
          },
          "metadata": {
            "tags": []
          },
          "execution_count": 18
        }
      ]
    }
  ]
}