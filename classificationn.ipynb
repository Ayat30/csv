{
  "nbformat": 4,
  "nbformat_minor": 0,
  "metadata": {
    "colab": {
      "name": "Welcome To Colaboratory",
      "provenance": [],
      "collapsed_sections": [],
      "toc_visible": true,
      "include_colab_link": true
    },
    "kernelspec": {
      "display_name": "Python 3",
      "name": "python3"
    }
  },
  "cells": [
    {
      "cell_type": "markdown",
      "metadata": {
        "id": "view-in-github",
        "colab_type": "text"
      },
      "source": [
        "<a href=\"https://colab.research.google.com/github/Ayat30/csv/blob/master/classificationn.ipynb\" target=\"_parent\"><img src=\"https://colab.research.google.com/assets/colab-badge.svg\" alt=\"Open In Colab\"/></a>"
      ]
    },
    {
      "cell_type": "markdown",
      "metadata": {
        "id": "5fCEDCU_qrC0"
      },
      "source": [
        "<p><img alt=\"Colaboratory logo\" height=\"45px\" src=\"/img/colab_favicon.ico\" align=\"left\" hspace=\"10px\" vspace=\"0px\"></p>\n",
        "\n",
        "<h1>What is Colaboratory?</h1>\n",
        "\n",
        "Colaboratory, or \"Colab\" for short, allows you to write and execute Python in your browser, with \n",
        "- Zero configuration required\n",
        "- Free access to GPUs\n",
        "- Easy sharing\n",
        "\n",
        "Whether you're a **student**, a **data scientist** or an **AI researcher**, Colab can make your work easier. Watch [Introduction to Colab](https://www.youtube.com/watch?v=inN8seMm7UI) to learn more, or just get started below!"
      ]
    },
    {
      "cell_type": "code",
      "metadata": {
        "id": "CZnNUddd0Mb5",
        "outputId": "f6e3f568-90c7-4d9d-89f9-ca171f900487",
        "colab": {
          "base_uri": "https://localhost:8080/",
          "height": 254
        }
      },
      "source": [
        "import csv\n",
        "import random\n",
        "\n",
        "from sklearn.linear_model import Perceptron\n",
        "model = Perceptron()\n",
        "with open(\"https://raw.githubusercontent.com/Ayat30/csv/master/haberman.csv\") as f:\n",
        "    reader = csv.reader(f)\n",
        "    next(reader)\n",
        "\n",
        "    data = []\n",
        "    for row in reader:\n",
        "        data.append({\n",
        "            \"age\": [int(cell) for cell in row[:3]],\n",
        "            \"label\": \"a3\" if row[3] == \"1\" else \"die\"\n",
        "        })\n",
        "\n",
        "# Separate data into training and testing groups\n",
        "holdout = int(0.30 * len(data))\n",
        "random.shuffle(data)\n",
        "testing = data[:holdout]\n",
        "training = data[holdout:]\n",
        "\n",
        "# Train model on training set\n",
        "x_training = [row[\"age\"] for row in training]\n",
        "y_training = [row[\"label\"] for row in training]\n",
        "model.fit(x_training, y_training)\n",
        "\n",
        "# Make predictions on the testing set\n",
        "X_testing = [row[\"age\"] for row in testing]\n",
        "y_testing = [row[\"label\"] for row in testing]\n",
        "predictions = model.predict(X_testing)\n",
        "\n",
        "# Compute how well we performed\n",
        "correct = 0\n",
        "incorrect = 0\n",
        "total = 0\n",
        "for actual, predicted in zip(y_testing, predictions):\n",
        "    total += 1\n",
        "    if actual == predicted:\n",
        "        correct += 1\n",
        "    else:\n",
        "        incorrect += 1\n",
        "\n",
        "# Print results\n",
        "print(f\"Results for model {type(model).__name__}\")\n",
        "print(f\"Correct: {correct}\")\n",
        "print(f\"Incorrect: {incorrect}\")\n",
        "print(f\"Accuracy: {100 * correct / total:.2f}%\")\n"
      ],
      "execution_count": 42,
      "outputs": [
        {
          "output_type": "error",
          "ename": "FileNotFoundError",
          "evalue": "ignored",
          "traceback": [
            "\u001b[0;31m---------------------------------------------------------------------------\u001b[0m",
            "\u001b[0;31mFileNotFoundError\u001b[0m                         Traceback (most recent call last)",
            "\u001b[0;32m<ipython-input-42-6f68148788a6>\u001b[0m in \u001b[0;36m<module>\u001b[0;34m()\u001b[0m\n\u001b[1;32m      4\u001b[0m \u001b[0;32mfrom\u001b[0m \u001b[0msklearn\u001b[0m\u001b[0;34m.\u001b[0m\u001b[0mlinear_model\u001b[0m \u001b[0;32mimport\u001b[0m \u001b[0mPerceptron\u001b[0m\u001b[0;34m\u001b[0m\u001b[0;34m\u001b[0m\u001b[0m\n\u001b[1;32m      5\u001b[0m \u001b[0mmodel\u001b[0m \u001b[0;34m=\u001b[0m \u001b[0mPerceptron\u001b[0m\u001b[0;34m(\u001b[0m\u001b[0;34m)\u001b[0m\u001b[0;34m\u001b[0m\u001b[0;34m\u001b[0m\u001b[0m\n\u001b[0;32m----> 6\u001b[0;31m \u001b[0;32mwith\u001b[0m \u001b[0mopen\u001b[0m\u001b[0;34m(\u001b[0m\u001b[0;34m\"https://raw.githubusercontent.com/Ayat30/csv/master/haberman.csv\"\u001b[0m\u001b[0;34m)\u001b[0m \u001b[0;32mas\u001b[0m \u001b[0mf\u001b[0m\u001b[0;34m:\u001b[0m\u001b[0;34m\u001b[0m\u001b[0;34m\u001b[0m\u001b[0m\n\u001b[0m\u001b[1;32m      7\u001b[0m     \u001b[0mreader\u001b[0m \u001b[0;34m=\u001b[0m \u001b[0mcsv\u001b[0m\u001b[0;34m.\u001b[0m\u001b[0mreader\u001b[0m\u001b[0;34m(\u001b[0m\u001b[0mf\u001b[0m\u001b[0;34m)\u001b[0m\u001b[0;34m\u001b[0m\u001b[0;34m\u001b[0m\u001b[0m\n\u001b[1;32m      8\u001b[0m     \u001b[0mnext\u001b[0m\u001b[0;34m(\u001b[0m\u001b[0mreader\u001b[0m\u001b[0;34m)\u001b[0m\u001b[0;34m\u001b[0m\u001b[0;34m\u001b[0m\u001b[0m\n",
            "\u001b[0;31mFileNotFoundError\u001b[0m: [Errno 2] No such file or directory: 'https://raw.githubusercontent.com/Ayat30/csv/master/haberman.csv'"
          ]
        }
      ]
    },
    {
      "cell_type": "code",
      "metadata": {
        "id": "XjkqdyEfEQoj",
        "outputId": "8226cb46-e116-4bec-91ce-8ff097bb7589",
        "colab": {
          "base_uri": "https://localhost:8080/"
        }
      },
      "source": [
        "import csv\n",
        "import random\n",
        "from urllib.request import urlopen\n",
        "import requests\n",
        "from contextlib import closing\n",
        "from sklearn.linear_model import Perceptron\n",
        "model = Perceptron()\n",
        "\n",
        "url = \"https://raw.githubusercontent.com/Ayat30/csv/master/x.csv\"\n",
        "with closing(requests.get(url, stream=True)) as r:\n",
        "    f = (line.decode('utf-8') for line in r.iter_lines())\n",
        "    reader = csv.reader(f, delimiter=',', quotechar='\"')\n",
        "\n",
        "    data = []\n",
        "    for row in reader:\n",
        "        data.append({\n",
        "            \"age\": [int(cell) for cell in row[:3]],\n",
        "            \"label\": \"a3\" if row[3] == \"1\" else \"die\"\n",
        "        })\n",
        "\n",
        "# Separate data into training and testing groups\n",
        "holdout = int(0.30 * len(data))\n",
        "random.shuffle(data)\n",
        "testing = data[:holdout]\n",
        "training = data[holdout:]\n",
        "\n",
        "# Train model on training set\n",
        "x_training = [row[\"age\"] for row in training]\n",
        "y_training = [row[\"label\"] for row in training]\n",
        "model.fit(x_training, y_training)\n",
        "\n",
        "# Make predictions on the testing set\n",
        "X_testing = [row[\"age\"] for row in testing]\n",
        "y_testing = [row[\"label\"] for row in testing]\n",
        "predictions = model.predict(X_testing)\n",
        "\n",
        "# Compute how well we performed\n",
        "correct = 0\n",
        "incorrect = 0\n",
        "total = 0\n",
        "for actual, predicted in zip(y_testing, predictions):\n",
        "    total += 1\n",
        "    if actual == predicted:\n",
        "        correct += 1\n",
        "    else:\n",
        "        incorrect += 1\n",
        "\n",
        "# Print results\n",
        "print(f\"Results for model {type(model).__name__}\")\n",
        "print(f\"Correct: {correct}\")\n",
        "print(f\"Incorrect: {incorrect}\")\n",
        "print(f\"Accuracy: {100 * correct / total:.2f}%\")"
      ],
      "execution_count": 54,
      "outputs": [
        {
          "output_type": "stream",
          "text": [
            "Results for model Perceptron\n",
            "Correct: 41\n",
            "Incorrect: 18\n",
            "Accuracy: 69.49%\n"
          ],
          "name": "stdout"
        }
      ]
    }
  ]
}