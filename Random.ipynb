{
  "nbformat": 4,
  "nbformat_minor": 0,
  "metadata": {
    "colab": {
      "name": "Random.ipynb",
      "provenance": [],
      "collapsed_sections": [],
      "authorship_tag": "ABX9TyOXIkls/X5fVDF+5beWkJlY",
      "include_colab_link": true
    },
    "kernelspec": {
      "name": "python3",
      "display_name": "Python 3"
    }
  },
  "cells": [
    {
      "cell_type": "markdown",
      "metadata": {
        "id": "view-in-github",
        "colab_type": "text"
      },
      "source": [
        "<a href=\"https://colab.research.google.com/github/Ayat30/csv/blob/master/Random.ipynb\" target=\"_parent\"><img src=\"https://colab.research.google.com/assets/colab-badge.svg\" alt=\"Open In Colab\"/></a>"
      ]
    },
    {
      "cell_type": "code",
      "metadata": {
        "colab": {
          "base_uri": "https://localhost:8080/"
        },
        "id": "4dsPyyr61xDn",
        "outputId": "a0293d7b-c1bc-427a-bef3-8e244f9c1dcf"
      },
      "source": [
        "from random import choice\n",
        "from numpy import array, dot, random\n",
        " \n",
        "step_fun = lambda x: 0 if x < 0 else 1\n",
        " \n",
        "training_dataset = [\n",
        "    (array([0,0,1]),0),\n",
        "     (array([0,1,1]),1),\n",
        "      (array([1,0,1]),1),\n",
        "       (array([1,1,1]),1),]\n",
        " \n",
        "w = random.rand(3) \n",
        "error = []\n",
        "eta = 0.3\n",
        "n = 100\n",
        "for j in range(n):\n",
        "  x,expected = choice(training_dataset)\n",
        "  result = dot(w,x)\n",
        "  err = expected - step_fun(result)\n",
        "  error.append(err)\n",
        "w += eta * err * x\n",
        "for x,_ in training_dataset:\n",
        " result = dot(x,w)\n",
        "print(\"{}: {} -> {}\".format(x[:3], result, step_fun(result)))"
      ],
      "execution_count": null,
      "outputs": [
        {
          "output_type": "stream",
          "text": [
            "[1 1 1]: 0.0933928643359449 -> 1\n"
          ],
          "name": "stdout"
        }
      ]
    }
  ]
}